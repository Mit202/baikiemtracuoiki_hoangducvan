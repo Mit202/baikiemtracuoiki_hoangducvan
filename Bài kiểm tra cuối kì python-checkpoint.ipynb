{
 "cells": [
  {
   "cell_type": "markdown",
   "id": "c1190689",
   "metadata": {},
   "source": [
    "# Bài kiểm tra cuối kì Môn Xác Thống Kê - Sinh Viên Hoàng Đức Văn 1451020269"
   ]
  },
  {
   "cell_type": "markdown",
   "id": "37b79b1e",
   "metadata": {},
   "source": [
    "Bài 1, Hãy viết chương trình để tạo ra một dictionary chứa (i, i*i), trong đó i là số nguyên từ 1 đến n (bao gồm cả 1 và n), n được nhập từ bàn phím. Sau đó in ra dictionary này ra màn hình. Ví dụ: Giả sử số n là 8 thì đầu ra sẽ là: {1: 1, 2: 4, 3: 9, 4: 16, 5: 25, 6: 36, 7: 49, 8: 64}."
   ]
  },
  {
   "cell_type": "code",
   "execution_count": null,
   "id": "b9cd84f3",
   "metadata": {},
   "outputs": [],
   "source": [
    "n = int(input(\"Nhập số nguyên dương n : \"))\n",
    " \n",
    "dictionary = dict()\n",
    "for i in range(1, n + 1):\n",
    "    dictionary[i] = i * i\n",
    " \n",
    "print (\"Kết quả : \",dictionary)"
   ]
  },
  {
   "cell_type": "markdown",
   "id": "0c9e1f97",
   "metadata": {},
   "source": [
    "a, Nhập và in ra màn hình tên của mình"
   ]
  },
  {
   "cell_type": "code",
   "execution_count": null,
   "id": "3d14683d",
   "metadata": {},
   "outputs": [],
   "source": [
    "ten = input(\"Nhap ten cua ban : \")\n",
    "print(\"Xin chao ! \",\"Tên bạn là \",ten)"
   ]
  },
  {
   "cell_type": "markdown",
   "id": "78e658f7",
   "metadata": {},
   "source": [
    "b, Chạy chương trình bằng cách nhập n bằng độ dài tên của mình ví dụ cuong thi n = 5"
   ]
  },
  {
   "cell_type": "code",
   "execution_count": null,
   "id": "645bd0de",
   "metadata": {},
   "outputs": [],
   "source": [
    "n = int(input(\"nhap do dai ten cua ban :  \"))\n",
    "def xacdinhten(n):\n",
    "    if(n==3):\n",
    "        print(\"Xin chao , Bạn ten la Văn\")\n",
    "    else:\n",
    "        print(\"ban nhap khong dung \")\n",
    "xacdinhten(n)\n"
   ]
  },
  {
   "cell_type": "markdown",
   "id": "f122a046",
   "metadata": {},
   "source": [
    "Bài 2, Viết chương trình tính tổng của các chữ số của một số nguyên n trong Python. Số nguyên dương n được nhập từ bàn phím. Với n = 1234, tổng các chữ số: 1 + 2 + 3 + 4 = 10 "
   ]
  },
  {
   "cell_type": "code",
   "execution_count": 14,
   "id": "6f39ea19",
   "metadata": {},
   "outputs": [
    {
     "name": "stdout",
     "output_type": "stream",
     "text": [
      "Nhap so n :1234\n",
      "Tong cac chu so cua  1234 la : 10\n"
     ]
    }
   ],
   "source": [
    "##em ten la Văn nên độ dài tên n phải bằng 3 \n",
    "n = int(input(\"Nhap so n :\"))\n",
    "def tinhtong(n):\n",
    "    tong = 0\n",
    "    while(n > 0 ):\n",
    "        tong = tong + n %10\n",
    "        n=int(n/10)\n",
    "    return tong \n",
    "\n",
    "print(\"Tong cac chu so cua \",n,\"la :\",tinhtong(n))"
   ]
  },
  {
   "cell_type": "markdown",
   "id": "a696bd62",
   "metadata": {},
   "source": [
    " a, Nhập và in ra màn hình tên đệm của mình "
   ]
  },
  {
   "cell_type": "code",
   "execution_count": 16,
   "id": "0c0eedd3",
   "metadata": {},
   "outputs": [
    {
     "name": "stdout",
     "output_type": "stream",
     "text": [
      "Nhap ten dem: duc\n",
      "Ten dem cua bạn la :  duc\n"
     ]
    }
   ],
   "source": [
    "tendem=input(\"Nhap ten dem: \")\n",
    "print(\"Ten dem cua bạn la : \",tendem)"
   ]
  },
  {
   "cell_type": "markdown",
   "id": "e9d8bfe5",
   "metadata": {},
   "source": [
    "b, Chạy chương trình bằng cách nhập n bằng độ dài tên của mình và tên đệm ví dụ MANH CUONG thi n = 4 + 5 = 9"
   ]
  },
  {
   "cell_type": "code",
   "execution_count": 22,
   "id": "7716bad4",
   "metadata": {},
   "outputs": [
    {
     "name": "stdout",
     "output_type": "stream",
     "text": [
      "nhap do dai ten cua ban :  6\n",
      "Xin chao  Đức Văn\n"
     ]
    }
   ],
   "source": [
    "##ten dem và tên của e là Đức Văn nên n sẽ bằng 6\n",
    "n = int(input(\"nhap do dai ten cua ban :  \"))\n",
    "arr= \"Đức Văn\"\n",
    "n1=len(arr.replace(\" \", \"\")) ##xac định độ dài của tên \n",
    "def xacdinhten(n):\n",
    "    if(n==n1):\n",
    "        print(\"Xin chao \",arr)\n",
    "    else:\n",
    "        print(\"ban nhap khong dung \")\n",
    "xacdinhten(n)"
   ]
  },
  {
   "cell_type": "markdown",
   "id": "9a4c4c45",
   "metadata": {},
   "source": [
    "Bài 3, Viết chương trình kiểm tra một số n là số thuận nghịch trong Python. Số nguyên dương n được nhập từ bàn phím."
   ]
  },
  {
   "cell_type": "code",
   "execution_count": 25,
   "id": "20126fc3",
   "metadata": {},
   "outputs": [
    {
     "name": "stdout",
     "output_type": "stream",
     "text": [
      "Nhập số n cần kiểm tra : 12321\n",
      "12321  là một số thuận nghịch\n"
     ]
    }
   ],
   "source": [
    "n=int(input(\"Nhập số n cần kiểm tra : \"))\n",
    "def hamkiemtra(n):\n",
    "    str1 = str(n);     # ep kieu so n thanh chuoi\n",
    "    str2 = str1[::-1];\n",
    "    if (str1 == str2):\n",
    "        print(n,\" là một số thuận nghịch\")\n",
    "    else:\n",
    "        print(n,\" không là một số thuận nghịch\")\n",
    "hamkiemtra(n)"
   ]
  },
  {
   "cell_type": "markdown",
   "id": "9708fa3b",
   "metadata": {},
   "source": [
    "a, Nhập và in ra màn hình tên đầy đủ của mình "
   ]
  },
  {
   "cell_type": "code",
   "execution_count": 26,
   "id": "bca1d7ea",
   "metadata": {},
   "outputs": [
    {
     "name": "stdout",
     "output_type": "stream",
     "text": [
      "nhâp họ tên :  Hoàng Đức Văn\n",
      "xin chao ! Tên đầy đủ của bạn la :  Hoàng Đức Văn\n"
     ]
    }
   ],
   "source": [
    "ten = input(\"nhâp họ tên :  \")\n",
    "print(\"xin chao ! Tên đầy đủ của bạn là : \",ten)"
   ]
  },
  {
   "cell_type": "markdown",
   "id": "1c063e78",
   "metadata": {},
   "source": [
    "b, chạy chương trình bằng cách nhập n từ bàn phím bằng cách tạo n như sau lấy số lượng họ , tên đệm, tên"
   ]
  },
  {
   "cell_type": "code",
   "execution_count": null,
   "id": "8225aeac",
   "metadata": {},
   "outputs": [],
   "source": [
    "##ten đầy đủ của e là Hoàng Đức Văn nên n cần phải bằng 533 mới in chạy trình\n",
    "ho = input(\"nhập họ của bạn : \")\n",
    "ho1=len(ho.replace(\" \", \"\"))\n",
    "ho2= str(ho1)\n",
    "\n",
    "tendem =input(\"nhập tên đệm của bạn : \")\n",
    "tendem1=len(tendem.replace(\" \",\"\"))\n",
    "tendem2 = str(tendem1)\n",
    "\n",
    "ten = input(\"nhập tên : \")\n",
    "ten1=len(ten.replace(\" \",\"\"))\n",
    "ten2 =str(ten1)\n",
    "n1=str(ho2+ten2+tendem2)\n",
    "\n",
    "n0 = int(input(\"Nhập n thỏa mãn điều kiện  \"))\n",
    "n = str(n0)\n",
    "def kiemtra(n):\n",
    "    if(n==n1):\n",
    "        print(\"nhập n chính xác ! Bạn là : \",ho,\"\",tendem,\"\",ten)\n",
    "    else:\n",
    "        print(\"n không chính xác , ko thể chạy chương trình\")\n",
    "kiemtra(n)"
   ]
  },
  {
   "cell_type": "markdown",
   "id": "70cdd89d",
   "metadata": {},
   "source": [
    "Bài 4, Viết chương trình chấp nhận một chuỗi ký tự, phân tách bằng dấu phẩy từ giao diện điều khiển, tạo ra một danh sách và một tuple chứa mọi số.\n"
   ]
  },
  {
   "cell_type": "code",
   "execution_count": null,
   "id": "12ca0efd",
   "metadata": {},
   "outputs": [],
   "source": [
    "n=input(\"Nhập Dữ Liệu\")\n",
    "n1.it(\",\")\n",
    "n2uple(l)\n",
    "print (n1\n",
    "print (n2"
   ]
  },
  {
   "cell_type": "markdown",
   "id": "13366637",
   "metadata": {},
   "source": [
    "a, Nhập và in màn hình tên của mình và id sinh viên ví dụ dinhmanhcuong123456\n"
   ]
  },
  {
   "cell_type": "code",
   "execution_count": null,
   "id": "b24d5dfd",
   "metadata": {},
   "outputs": [],
   "source": [
    "ten = input(\"Nhập tên của bạn \")\n",
    "id = input(\"Nhap id\")\n",
    "print(data+id)"
   ]
  },
  {
   "cell_type": "markdown",
   "id": "b4952dd2",
   "metadata": {},
   "source": [
    "b, Chạy và in ra màn hình bằng chuỗi tạo ra ở câu a\n"
   ]
  },
  {
   "cell_type": "code",
   "execution_count": null,
   "id": "d9bf0df8",
   "metadata": {},
   "outputs": [],
   "source": [
    "#n = \"hoangducvan1451020269\"\n",
    "data= input(\"nhập tên và id của bạn \")\n",
    "print(data)"
   ]
  }
 ],
 "metadata": {
  "kernelspec": {
   "display_name": "Python 3 (ipykernel)",
   "language": "python",
   "name": "python3"
  },
  "language_info": {
   "codemirror_mode": {
    "name": "ipython",
    "version": 3
   },
   "file_extension": ".py",
   "mimetype": "text/x-python",
   "name": "python",
   "nbconvert_exporter": "python",
   "pygments_lexer": "ipython3",
   "version": "3.9.7"
  }
 },
 "nbformat": 4,
 "nbformat_minor": 5
}
